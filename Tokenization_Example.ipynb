{
  "nbformat": 4,
  "nbformat_minor": 0,
  "metadata": {
    "colab": {
      "provenance": []
    },
    "kernelspec": {
      "name": "python3",
      "display_name": "Python 3"
    },
    "language_info": {
      "name": "python"
    }
  },
  "cells": [
    {
      "cell_type": "code",
      "execution_count": null,
      "metadata": {
        "colab": {
          "base_uri": "https://localhost:8080/"
        },
        "id": "7aWS4ef5R0gb",
        "outputId": "2595f298-ac48-48be-ad7c-7f939c4f13ca"
      },
      "outputs": [
        {
          "output_type": "stream",
          "name": "stdout",
          "text": [
            "Requirement already satisfied: nltk in /usr/local/lib/python3.10/dist-packages (3.8.1)\n",
            "Requirement already satisfied: click in /usr/local/lib/python3.10/dist-packages (from nltk) (8.1.7)\n",
            "Requirement already satisfied: joblib in /usr/local/lib/python3.10/dist-packages (from nltk) (1.4.0)\n",
            "Requirement already satisfied: regex>=2021.8.3 in /usr/local/lib/python3.10/dist-packages (from nltk) (2023.12.25)\n",
            "Requirement already satisfied: tqdm in /usr/local/lib/python3.10/dist-packages (from nltk) (4.66.2)\n"
          ]
        }
      ],
      "source": [
        "!pip install nltk"
      ]
    },
    {
      "cell_type": "code",
      "source": [
        "import nltk"
      ],
      "metadata": {
        "id": "AsrcI2ifR2J5"
      },
      "execution_count": null,
      "outputs": []
    },
    {
      "cell_type": "code",
      "source": [
        "corpus = \"\"\"Virat Kohli is an Indian international cricketer and the former captain of the Indian national cricket team.\n",
        " He is a right-handed batsman and an occasional medium-fast bowler.\n",
        " He currently represents Royal Challengers Bengaluru in the IPL and Delhi in domestic cricket.\n",
        " \"\"\""
      ],
      "metadata": {
        "id": "ZeM8bD8pSA-R"
      },
      "execution_count": null,
      "outputs": []
    },
    {
      "cell_type": "code",
      "source": [
        "corpus"
      ],
      "metadata": {
        "colab": {
          "base_uri": "https://localhost:8080/",
          "height": 88
        },
        "id": "zM8SeGQvSHO8",
        "outputId": "60cf9b7d-b776-4de0-d242-84605c843a21"
      },
      "execution_count": null,
      "outputs": [
        {
          "output_type": "execute_result",
          "data": {
            "text/plain": [
              "'Virat Kohli is an Indian international cricketer and the former captain of the Indian national cricket team.\\n He is a right-handed batsman and an occasional medium-fast bowler. \\n He currently represents Royal Challengers Bengaluru in the IPL and Delhi in domestic cricket.\\n '"
            ],
            "application/vnd.google.colaboratory.intrinsic+json": {
              "type": "string"
            }
          },
          "metadata": {},
          "execution_count": 9
        }
      ]
    },
    {
      "cell_type": "code",
      "source": [
        "print(corpus)"
      ],
      "metadata": {
        "colab": {
          "base_uri": "https://localhost:8080/"
        },
        "id": "EXkm2Y9DSDUz",
        "outputId": "e6ec007c-a0fd-49d4-ecfc-bf06db309e45"
      },
      "execution_count": null,
      "outputs": [
        {
          "output_type": "stream",
          "name": "stdout",
          "text": [
            "Virat Kohli is an Indian international cricketer and the former captain of the Indian national cricket team.\n",
            " He is a right-handed batsman and an occasional medium-fast bowler. \n",
            " He currently represents Royal Challengers Bengaluru in the IPL and Delhi in domestic cricket.\n",
            " \n"
          ]
        }
      ]
    },
    {
      "cell_type": "code",
      "source": [
        "## Tokenization\n",
        "\n",
        "## Sentence --> paragraphs\n",
        "from nltk.tokenize import sent_tokenize\n"
      ],
      "metadata": {
        "id": "61e_x5zmSsfK"
      },
      "execution_count": null,
      "outputs": []
    },
    {
      "cell_type": "code",
      "source": [
        "nltk.download('punkt')"
      ],
      "metadata": {
        "colab": {
          "base_uri": "https://localhost:8080/"
        },
        "id": "sW5ka6EnTgbL",
        "outputId": "16241838-58bd-41b1-d408-ff95b1da385a"
      },
      "execution_count": null,
      "outputs": [
        {
          "output_type": "stream",
          "name": "stderr",
          "text": [
            "[nltk_data] Downloading package punkt to /root/nltk_data...\n",
            "[nltk_data]   Unzipping tokenizers/punkt.zip.\n"
          ]
        },
        {
          "output_type": "execute_result",
          "data": {
            "text/plain": [
              "True"
            ]
          },
          "metadata": {},
          "execution_count": 18
        }
      ]
    },
    {
      "cell_type": "code",
      "source": [
        "documents = sent_tokenize(corpus)"
      ],
      "metadata": {
        "id": "3jdLzqwDSz7n"
      },
      "execution_count": null,
      "outputs": []
    },
    {
      "cell_type": "code",
      "source": [
        "type(documents)"
      ],
      "metadata": {
        "colab": {
          "base_uri": "https://localhost:8080/"
        },
        "id": "4IVdogVTTD3-",
        "outputId": "52871183-e05d-4011-fe2d-d8c876275fe7"
      },
      "execution_count": null,
      "outputs": [
        {
          "output_type": "execute_result",
          "data": {
            "text/plain": [
              "list"
            ]
          },
          "metadata": {},
          "execution_count": 21
        }
      ]
    },
    {
      "cell_type": "code",
      "source": [
        "for sentence in documents:\n",
        "  print(sentence)"
      ],
      "metadata": {
        "colab": {
          "base_uri": "https://localhost:8080/"
        },
        "id": "6LrJD7fFT44w",
        "outputId": "e3b32edf-531a-4b02-f714-6ec6e5e8ccee"
      },
      "execution_count": null,
      "outputs": [
        {
          "output_type": "stream",
          "name": "stdout",
          "text": [
            "Virat Kohli is an Indian international cricketer and the former captain of the Indian national cricket team.\n",
            "He is a right-handed batsman and an occasional medium-fast bowler.\n",
            "He currently represents Royal Challengers Bengaluru in the IPL and Delhi in domestic cricket.\n"
          ]
        }
      ]
    },
    {
      "cell_type": "code",
      "source": [
        "##Tokenization\n",
        "\n",
        "## Paragraph --> words\n",
        "## sentence --> words\n",
        "from nltk.tokenize import word_tokenize"
      ],
      "metadata": {
        "id": "RA7IS_N3T-Di"
      },
      "execution_count": null,
      "outputs": []
    },
    {
      "cell_type": "code",
      "source": [
        "word_tokenize(corpus)"
      ],
      "metadata": {
        "colab": {
          "base_uri": "https://localhost:8080/"
        },
        "id": "R0heaLcuUP9H",
        "outputId": "3c6ceca5-543c-40b5-8687-6defcc8aa66b"
      },
      "execution_count": null,
      "outputs": [
        {
          "output_type": "execute_result",
          "data": {
            "text/plain": [
              "['Virat',\n",
              " 'Kohli',\n",
              " 'is',\n",
              " 'an',\n",
              " 'Indian',\n",
              " 'international',\n",
              " 'cricketer',\n",
              " 'and',\n",
              " 'the',\n",
              " 'former',\n",
              " 'captain',\n",
              " 'of',\n",
              " 'the',\n",
              " 'Indian',\n",
              " 'national',\n",
              " 'cricket',\n",
              " 'team',\n",
              " '.',\n",
              " 'He',\n",
              " 'is',\n",
              " 'a',\n",
              " 'right-handed',\n",
              " 'batsman',\n",
              " 'and',\n",
              " 'an',\n",
              " 'occasional',\n",
              " 'medium-fast',\n",
              " 'bowler',\n",
              " '.',\n",
              " 'He',\n",
              " 'currently',\n",
              " 'represents',\n",
              " 'Royal',\n",
              " 'Challengers',\n",
              " 'Bengaluru',\n",
              " 'in',\n",
              " 'the',\n",
              " 'IPL',\n",
              " 'and',\n",
              " 'Delhi',\n",
              " 'in',\n",
              " 'domestic',\n",
              " 'cricket',\n",
              " '.']"
            ]
          },
          "metadata": {},
          "execution_count": 24
        }
      ]
    },
    {
      "cell_type": "code",
      "source": [
        "for sentence in documents:\n",
        "  print(word_tokenize(sentence))"
      ],
      "metadata": {
        "colab": {
          "base_uri": "https://localhost:8080/"
        },
        "id": "7LvDCsFqUSpO",
        "outputId": "60076bbf-6c37-4563-a22f-14ad506f9735"
      },
      "execution_count": null,
      "outputs": [
        {
          "output_type": "stream",
          "name": "stdout",
          "text": [
            "['Virat', 'Kohli', 'is', 'an', 'Indian', 'international', 'cricketer', 'and', 'the', 'former', 'captain', 'of', 'the', 'Indian', 'national', 'cricket', 'team', '.']\n",
            "['He', 'is', 'a', 'right-handed', 'batsman', 'and', 'an', 'occasional', 'medium-fast', 'bowler', '.']\n",
            "['He', 'currently', 'represents', 'Royal', 'Challengers', 'Bengaluru', 'in', 'the', 'IPL', 'and', 'Delhi', 'in', 'domestic', 'cricket', '.']\n"
          ]
        }
      ]
    },
    {
      "cell_type": "code",
      "source": [],
      "metadata": {
        "id": "naOa_JbfUfzL"
      },
      "execution_count": null,
      "outputs": []
    },
    {
      "cell_type": "code",
      "source": [
        "from nltk.tokenize import wordpunct_tokenize"
      ],
      "metadata": {
        "id": "i70b4KhsUkQp"
      },
      "execution_count": null,
      "outputs": []
    },
    {
      "cell_type": "code",
      "source": [
        "wordpunct_tokenize(corpus)"
      ],
      "metadata": {
        "colab": {
          "base_uri": "https://localhost:8080/"
        },
        "id": "DOk91X9uUnmk",
        "outputId": "29835313-cceb-42d4-ce2d-83233e5560e9"
      },
      "execution_count": null,
      "outputs": [
        {
          "output_type": "execute_result",
          "data": {
            "text/plain": [
              "['Virat',\n",
              " 'Kohli',\n",
              " 'is',\n",
              " 'an',\n",
              " 'Indian',\n",
              " 'international',\n",
              " 'cricketer',\n",
              " 'and',\n",
              " 'the',\n",
              " 'former',\n",
              " 'captain',\n",
              " 'of',\n",
              " 'the',\n",
              " 'Indian',\n",
              " 'national',\n",
              " 'cricket',\n",
              " 'team',\n",
              " '.',\n",
              " 'He',\n",
              " 'is',\n",
              " 'a',\n",
              " 'right',\n",
              " '-',\n",
              " 'handed',\n",
              " 'batsman',\n",
              " 'and',\n",
              " 'an',\n",
              " 'occasional',\n",
              " 'medium',\n",
              " '-',\n",
              " 'fast',\n",
              " 'bowler',\n",
              " '.',\n",
              " 'He',\n",
              " 'currently',\n",
              " 'represents',\n",
              " 'Royal',\n",
              " 'Challengers',\n",
              " 'Bengaluru',\n",
              " 'in',\n",
              " 'the',\n",
              " 'IPL',\n",
              " 'and',\n",
              " 'Delhi',\n",
              " 'in',\n",
              " 'domestic',\n",
              " 'cricket',\n",
              " '.']"
            ]
          },
          "metadata": {},
          "execution_count": 30
        }
      ]
    },
    {
      "cell_type": "markdown",
      "source": [
        "Initially using :\n",
        "\n",
        "i) word_tokenize --> Thw words right-handed, medium-fast were consider as one word.\n",
        "\n",
        "ii) wordpunct_tokenize --> Usig this right-handed is consider has 3 different tokens : 'right', '-', 'handed'."
      ],
      "metadata": {
        "id": "yVS04PvCU9ov"
      }
    },
    {
      "cell_type": "code",
      "source": [],
      "metadata": {
        "id": "KlCen8CqUqia"
      },
      "execution_count": null,
      "outputs": []
    },
    {
      "cell_type": "code",
      "source": [
        "from nltk.tokenize import TreebankWordTokenizer"
      ],
      "metadata": {
        "id": "XfYS3wqNVcog"
      },
      "execution_count": null,
      "outputs": []
    },
    {
      "cell_type": "code",
      "source": [
        "tokenizer = TreebankWordTokenizer()"
      ],
      "metadata": {
        "id": "GO2bmoh1VgT9"
      },
      "execution_count": null,
      "outputs": []
    },
    {
      "cell_type": "code",
      "source": [
        "tokenizer.tokenize(corpus)"
      ],
      "metadata": {
        "colab": {
          "base_uri": "https://localhost:8080/"
        },
        "id": "tBAgs9CXVnAo",
        "outputId": "87d5666c-bce3-4eab-fa43-bc627df1ed1a"
      },
      "execution_count": null,
      "outputs": [
        {
          "output_type": "execute_result",
          "data": {
            "text/plain": [
              "['Virat',\n",
              " 'Kohli',\n",
              " 'is',\n",
              " 'an',\n",
              " 'Indian',\n",
              " 'international',\n",
              " 'cricketer',\n",
              " 'and',\n",
              " 'the',\n",
              " 'former',\n",
              " 'captain',\n",
              " 'of',\n",
              " 'the',\n",
              " 'Indian',\n",
              " 'national',\n",
              " 'cricket',\n",
              " 'team.',\n",
              " 'He',\n",
              " 'is',\n",
              " 'a',\n",
              " 'right-handed',\n",
              " 'batsman',\n",
              " 'and',\n",
              " 'an',\n",
              " 'occasional',\n",
              " 'medium-fast',\n",
              " 'bowler.',\n",
              " 'He',\n",
              " 'currently',\n",
              " 'represents',\n",
              " 'Royal',\n",
              " 'Challengers',\n",
              " 'Bengaluru',\n",
              " 'in',\n",
              " 'the',\n",
              " 'IPL',\n",
              " 'and',\n",
              " 'Delhi',\n",
              " 'in',\n",
              " 'domestic',\n",
              " 'cricket',\n",
              " '.']"
            ]
          },
          "metadata": {},
          "execution_count": 33
        }
      ]
    },
    {
      "cell_type": "markdown",
      "source": [
        "Here full stop is consider as seperate token only at last. For before 2 statements it is taken along with the word.\n",
        "'team.', 'bowler.'"
      ],
      "metadata": {
        "id": "v-H602RGVxxa"
      }
    },
    {
      "cell_type": "code",
      "source": [],
      "metadata": {
        "id": "jDfYEptpVrf0"
      },
      "execution_count": null,
      "outputs": []
    },
    {
      "cell_type": "code",
      "source": [],
      "metadata": {
        "id": "F3aetRlfWR02"
      },
      "execution_count": null,
      "outputs": []
    },
    {
      "cell_type": "code",
      "source": [],
      "metadata": {
        "id": "l21AHIV8WRx1"
      },
      "execution_count": null,
      "outputs": []
    },
    {
      "cell_type": "markdown",
      "source": [
        "Line Tokenization\n",
        "\n"
      ],
      "metadata": {
        "id": "LE_HEDdyWZVo"
      }
    },
    {
      "cell_type": "code",
      "source": [
        "import nltk\n",
        "data = \"Hello Good evening. I am very glad to be part of this ceremony\"\n",
        "tokens = nltk.sent_tokenize(data)\n",
        "print(tokens)\n"
      ],
      "metadata": {
        "colab": {
          "base_uri": "https://localhost:8080/"
        },
        "id": "ntSYkb4JWdeo",
        "outputId": "b1347ca1-bc50-435d-ad83-48e4c580351e"
      },
      "execution_count": null,
      "outputs": [
        {
          "output_type": "stream",
          "name": "stdout",
          "text": [
            "['Hello Good evening.', 'I am very glad to be part of this ceremony']\n"
          ]
        }
      ]
    },
    {
      "cell_type": "code",
      "source": [],
      "metadata": {
        "id": "8HJQ6WNhWuM4"
      },
      "execution_count": null,
      "outputs": []
    },
    {
      "cell_type": "markdown",
      "source": [
        "Word Tokenization"
      ],
      "metadata": {
        "id": "7lKsVUEgWxgI"
      }
    },
    {
      "cell_type": "code",
      "source": [
        "tokens =nltk.word_tokenize(data)\n",
        "print(tokens)\n"
      ],
      "metadata": {
        "colab": {
          "base_uri": "https://localhost:8080/"
        },
        "id": "EaYSBa76WzOg",
        "outputId": "9ec248b1-de84-46ef-9a1f-a8731b1bf2fa"
      },
      "execution_count": null,
      "outputs": [
        {
          "output_type": "stream",
          "name": "stdout",
          "text": [
            "['Hello', 'Good', 'evening', '.', 'I', 'am', 'very', 'glad', 'to', 'be', 'part', 'of', 'this', 'ceremony']\n"
          ]
        }
      ]
    },
    {
      "cell_type": "code",
      "source": [
        "len(tokens)"
      ],
      "metadata": {
        "colab": {
          "base_uri": "https://localhost:8080/"
        },
        "id": "OZRb6fUXW5oM",
        "outputId": "97d5a97b-340c-4f7b-8b40-9a3ad4e90424"
      },
      "execution_count": null,
      "outputs": [
        {
          "output_type": "execute_result",
          "data": {
            "text/plain": [
              "14"
            ]
          },
          "metadata": {},
          "execution_count": 36
        }
      ]
    },
    {
      "cell_type": "code",
      "source": [],
      "metadata": {
        "id": "nTC5iKAyW8SJ"
      },
      "execution_count": null,
      "outputs": []
    }
  ]
}